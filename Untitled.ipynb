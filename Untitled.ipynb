{
 "cells": [
  {
   "cell_type": "code",
   "execution_count": 1,
   "id": "617a6836-a707-4959-bd34-11328a30fb1c",
   "metadata": {
    "tags": []
   },
   "outputs": [],
   "source": [
    "import pandas as pd"
   ]
  },
  {
   "cell_type": "code",
   "execution_count": 2,
   "id": "ed6a0672-018d-40f0-8eb5-49f47f85b120",
   "metadata": {
    "tags": []
   },
   "outputs": [],
   "source": [
    "import numpy as py"
   ]
  },
  {
   "cell_type": "code",
   "execution_count": 3,
   "id": "e98c343d-455d-4ad2-ab4b-4e8bed196525",
   "metadata": {
    "tags": []
   },
   "outputs": [],
   "source": [
    "import seaborn as sns"
   ]
  },
  {
   "cell_type": "code",
   "execution_count": 4,
   "id": "fd7bcc4c-d6b2-4b39-ab09-6bf588be8fc4",
   "metadata": {
    "tags": []
   },
   "outputs": [],
   "source": [
    "import matplotlib.pyplot as plt"
   ]
  },
  {
   "cell_type": "code",
   "execution_count": 5,
   "id": "ee749564-c020-40e6-a02c-75aaa8763414",
   "metadata": {
    "tags": []
   },
   "outputs": [],
   "source": [
    "from sklearn.metrics import r2_score\n",
    "from sklearn.impute import SimpleImputer\n",
    "from sklearn.compose import make_column_transformer\n",
    "from sklearn.pipeline import make_pipeline\n",
    "from sklearn.model_selection import train_test_split\n",
    "from sklearn.preprocessing import StandardScaler\n",
    "from sklearn.ensemble import RandomForestRegressor\n",
    "from sklearn.feature_selection import SelectFromModel\n",
    "from sklearn.tree import DecisionTreeRegressor"
   ]
  },
  {
   "cell_type": "code",
   "execution_count": 6,
   "id": "9ea18ab3-0aca-4067-a408-98668ceecc05",
   "metadata": {
    "tags": []
   },
   "outputs": [
    {
     "name": "stdout",
     "output_type": "stream",
     "text": [
      "<class 'pandas.core.frame.DataFrame'>\n",
      "RangeIndex: 2200 entries, 0 to 2199\n",
      "Data columns (total 8 columns):\n",
      " #   Column       Non-Null Count  Dtype  \n",
      "---  ------       --------------  -----  \n",
      " 0   N            2200 non-null   int64  \n",
      " 1   P            2200 non-null   int64  \n",
      " 2   K            2200 non-null   int64  \n",
      " 3   temperature  2200 non-null   float64\n",
      " 4   humidity     2200 non-null   float64\n",
      " 5   ph           2200 non-null   float64\n",
      " 6   rainfall     2200 non-null   float64\n",
      " 7   label        2200 non-null   object \n",
      "dtypes: float64(4), int64(3), object(1)\n",
      "memory usage: 137.6+ KB\n"
     ]
    }
   ],
   "source": [
    "data= pd.read_csv(r\"C:\\Users\\shahi\\Downloads\\archive (1)\\Crop_recommendation.csv\")\n",
    "data.info()"
   ]
  },
  {
   "cell_type": "code",
   "execution_count": 7,
   "id": "f52b70cc-9601-47fe-87c1-e31956c695df",
   "metadata": {
    "tags": []
   },
   "outputs": [
    {
     "data": {
      "text/plain": [
       "array(['rice', 'maize', 'chickpea', 'kidneybeans', 'pigeonpeas',\n",
       "       'mothbeans', 'mungbean', 'blackgram', 'lentil', 'pomegranate',\n",
       "       'banana', 'mango', 'grapes', 'watermelon', 'muskmelon', 'apple',\n",
       "       'orange', 'papaya', 'coconut', 'cotton', 'jute', 'coffee'],\n",
       "      dtype=object)"
      ]
     },
     "execution_count": 7,
     "metadata": {},
     "output_type": "execute_result"
    }
   ],
   "source": [
    "data['label'].unique() #22 categories\n",
    "# divide in subcategories\n"
   ]
  },
  {
   "cell_type": "raw",
   "id": "96214ebf-3f55-42e8-b2fd-f8b4ac58ecd6",
   "metadata": {},
   "source": [
    " subcategory 1: fruits ('banana':1.1, 'watermelon':1.2, 'muskmelon':1.3)\n",
    " subcategory 2: cereal crops ('rice':2.1, 'maize':2.2)\n",
    " subcategory 3: lentils ('chickpea':3.1, 'mungbean':3.1, 'blackgram':3.3)\n",
    " subcategory 4: textile crops ('cotton':4.1, 'jute':4.2)\n",
    " subcategory 5: 'coffee':5, remove it not ideal for single crop system"
   ]
  },
  {
   "cell_type": "code",
   "execution_count": 8,
   "id": "378fa71c-0083-4aca-a3c8-2f600c66b141",
   "metadata": {
    "tags": []
   },
   "outputs": [],
   "source": [
    "data[['num_label', 'num_label_2']]= ''"
   ]
  },
  {
   "cell_type": "code",
   "execution_count": 9,
   "id": "dbd7704d-b85e-4aa9-84b3-83b2f900d095",
   "metadata": {
    "tags": []
   },
   "outputs": [],
   "source": [
    "data.loc[data['label'].isin(['banana', 'watermelon', 'muskmelon']), 'num_label'] = 1\n",
    "data.loc[data['label'].isin(['rice', 'maize']), 'num_label'] = 2\n",
    "data.loc[data['label'].isin(['chickpea', 'mungbean', 'blackgram']), 'num_label'] = 3\n",
    "data.loc[data['label'].isin(['cotton', 'jute']), 'num_label'] = 4\n",
    "data.loc[data['label'].isin(['coffee']), 'num_label'] = 0"
   ]
  },
  {
   "cell_type": "code",
   "execution_count": 10,
   "id": "c0ebdc6a-ec54-465e-a02b-7affe39af4ae",
   "metadata": {
    "tags": []
   },
   "outputs": [
    {
     "data": {
      "text/html": [
       "<div>\n",
       "<style scoped>\n",
       "    .dataframe tbody tr th:only-of-type {\n",
       "        vertical-align: middle;\n",
       "    }\n",
       "\n",
       "    .dataframe tbody tr th {\n",
       "        vertical-align: top;\n",
       "    }\n",
       "\n",
       "    .dataframe thead th {\n",
       "        text-align: right;\n",
       "    }\n",
       "</style>\n",
       "<table border=\"1\" class=\"dataframe\">\n",
       "  <thead>\n",
       "    <tr style=\"text-align: right;\">\n",
       "      <th></th>\n",
       "      <th>N</th>\n",
       "      <th>P</th>\n",
       "      <th>K</th>\n",
       "      <th>temperature</th>\n",
       "      <th>humidity</th>\n",
       "      <th>ph</th>\n",
       "      <th>rainfall</th>\n",
       "      <th>label</th>\n",
       "      <th>num_label</th>\n",
       "      <th>num_label_2</th>\n",
       "    </tr>\n",
       "  </thead>\n",
       "  <tbody>\n",
       "    <tr>\n",
       "      <th>0</th>\n",
       "      <td>90</td>\n",
       "      <td>42</td>\n",
       "      <td>43</td>\n",
       "      <td>20.879744</td>\n",
       "      <td>82.002744</td>\n",
       "      <td>6.502985</td>\n",
       "      <td>202.935536</td>\n",
       "      <td>rice</td>\n",
       "      <td>2</td>\n",
       "      <td></td>\n",
       "    </tr>\n",
       "    <tr>\n",
       "      <th>1</th>\n",
       "      <td>85</td>\n",
       "      <td>58</td>\n",
       "      <td>41</td>\n",
       "      <td>21.770462</td>\n",
       "      <td>80.319644</td>\n",
       "      <td>7.038096</td>\n",
       "      <td>226.655537</td>\n",
       "      <td>rice</td>\n",
       "      <td>2</td>\n",
       "      <td></td>\n",
       "    </tr>\n",
       "    <tr>\n",
       "      <th>2</th>\n",
       "      <td>60</td>\n",
       "      <td>55</td>\n",
       "      <td>44</td>\n",
       "      <td>23.004459</td>\n",
       "      <td>82.320763</td>\n",
       "      <td>7.840207</td>\n",
       "      <td>263.964248</td>\n",
       "      <td>rice</td>\n",
       "      <td>2</td>\n",
       "      <td></td>\n",
       "    </tr>\n",
       "    <tr>\n",
       "      <th>3</th>\n",
       "      <td>74</td>\n",
       "      <td>35</td>\n",
       "      <td>40</td>\n",
       "      <td>26.491096</td>\n",
       "      <td>80.158363</td>\n",
       "      <td>6.980401</td>\n",
       "      <td>242.864034</td>\n",
       "      <td>rice</td>\n",
       "      <td>2</td>\n",
       "      <td></td>\n",
       "    </tr>\n",
       "    <tr>\n",
       "      <th>4</th>\n",
       "      <td>78</td>\n",
       "      <td>42</td>\n",
       "      <td>42</td>\n",
       "      <td>20.130175</td>\n",
       "      <td>81.604873</td>\n",
       "      <td>7.628473</td>\n",
       "      <td>262.717340</td>\n",
       "      <td>rice</td>\n",
       "      <td>2</td>\n",
       "      <td></td>\n",
       "    </tr>\n",
       "    <tr>\n",
       "      <th>...</th>\n",
       "      <td>...</td>\n",
       "      <td>...</td>\n",
       "      <td>...</td>\n",
       "      <td>...</td>\n",
       "      <td>...</td>\n",
       "      <td>...</td>\n",
       "      <td>...</td>\n",
       "      <td>...</td>\n",
       "      <td>...</td>\n",
       "      <td>...</td>\n",
       "    </tr>\n",
       "    <tr>\n",
       "      <th>2195</th>\n",
       "      <td>107</td>\n",
       "      <td>34</td>\n",
       "      <td>32</td>\n",
       "      <td>26.774637</td>\n",
       "      <td>66.413269</td>\n",
       "      <td>6.780064</td>\n",
       "      <td>177.774507</td>\n",
       "      <td>coffee</td>\n",
       "      <td>0</td>\n",
       "      <td></td>\n",
       "    </tr>\n",
       "    <tr>\n",
       "      <th>2196</th>\n",
       "      <td>99</td>\n",
       "      <td>15</td>\n",
       "      <td>27</td>\n",
       "      <td>27.417112</td>\n",
       "      <td>56.636362</td>\n",
       "      <td>6.086922</td>\n",
       "      <td>127.924610</td>\n",
       "      <td>coffee</td>\n",
       "      <td>0</td>\n",
       "      <td></td>\n",
       "    </tr>\n",
       "    <tr>\n",
       "      <th>2197</th>\n",
       "      <td>118</td>\n",
       "      <td>33</td>\n",
       "      <td>30</td>\n",
       "      <td>24.131797</td>\n",
       "      <td>67.225123</td>\n",
       "      <td>6.362608</td>\n",
       "      <td>173.322839</td>\n",
       "      <td>coffee</td>\n",
       "      <td>0</td>\n",
       "      <td></td>\n",
       "    </tr>\n",
       "    <tr>\n",
       "      <th>2198</th>\n",
       "      <td>117</td>\n",
       "      <td>32</td>\n",
       "      <td>34</td>\n",
       "      <td>26.272418</td>\n",
       "      <td>52.127394</td>\n",
       "      <td>6.758793</td>\n",
       "      <td>127.175293</td>\n",
       "      <td>coffee</td>\n",
       "      <td>0</td>\n",
       "      <td></td>\n",
       "    </tr>\n",
       "    <tr>\n",
       "      <th>2199</th>\n",
       "      <td>104</td>\n",
       "      <td>18</td>\n",
       "      <td>30</td>\n",
       "      <td>23.603016</td>\n",
       "      <td>60.396475</td>\n",
       "      <td>6.779833</td>\n",
       "      <td>140.937041</td>\n",
       "      <td>coffee</td>\n",
       "      <td>0</td>\n",
       "      <td></td>\n",
       "    </tr>\n",
       "  </tbody>\n",
       "</table>\n",
       "<p>2200 rows × 10 columns</p>\n",
       "</div>"
      ],
      "text/plain": [
       "        N   P   K  temperature   humidity        ph    rainfall   label  \\\n",
       "0      90  42  43    20.879744  82.002744  6.502985  202.935536    rice   \n",
       "1      85  58  41    21.770462  80.319644  7.038096  226.655537    rice   \n",
       "2      60  55  44    23.004459  82.320763  7.840207  263.964248    rice   \n",
       "3      74  35  40    26.491096  80.158363  6.980401  242.864034    rice   \n",
       "4      78  42  42    20.130175  81.604873  7.628473  262.717340    rice   \n",
       "...   ...  ..  ..          ...        ...       ...         ...     ...   \n",
       "2195  107  34  32    26.774637  66.413269  6.780064  177.774507  coffee   \n",
       "2196   99  15  27    27.417112  56.636362  6.086922  127.924610  coffee   \n",
       "2197  118  33  30    24.131797  67.225123  6.362608  173.322839  coffee   \n",
       "2198  117  32  34    26.272418  52.127394  6.758793  127.175293  coffee   \n",
       "2199  104  18  30    23.603016  60.396475  6.779833  140.937041  coffee   \n",
       "\n",
       "     num_label num_label_2  \n",
       "0            2              \n",
       "1            2              \n",
       "2            2              \n",
       "3            2              \n",
       "4            2              \n",
       "...        ...         ...  \n",
       "2195         0              \n",
       "2196         0              \n",
       "2197         0              \n",
       "2198         0              \n",
       "2199         0              \n",
       "\n",
       "[2200 rows x 10 columns]"
      ]
     },
     "execution_count": 10,
     "metadata": {},
     "output_type": "execute_result"
    }
   ],
   "source": [
    "data"
   ]
  },
  {
   "cell_type": "markdown",
   "id": "e30d81ee-caf4-4383-ae2e-15b6915a7f8e",
   "metadata": {},
   "source": [
    "## pre model to select sub categories based on N, P, K"
   ]
  },
  {
   "cell_type": "code",
   "execution_count": 11,
   "id": "384ee2d3-c698-4167-8b57-12a95870cc47",
   "metadata": {
    "tags": []
   },
   "outputs": [],
   "source": [
    "from sklearn.metrics import classification_report\n",
    "from sklearn import metrics\n",
    "from sklearn import tree\n",
    "from sklearn.model_selection import cross_val_score"
   ]
  },
  {
   "cell_type": "code",
   "execution_count": 12,
   "id": "ab965fd1-f974-4ce1-a6cb-c03b48a8d3cf",
   "metadata": {
    "tags": []
   },
   "outputs": [
    {
     "name": "stdout",
     "output_type": "stream",
     "text": [
      "<class 'pandas.core.frame.DataFrame'>\n",
      "Index: 1100 entries, 0 to 2199\n",
      "Data columns (total 4 columns):\n",
      " #   Column     Non-Null Count  Dtype\n",
      "---  ------     --------------  -----\n",
      " 0   N          1100 non-null   int64\n",
      " 1   P          1100 non-null   int64\n",
      " 2   K          1100 non-null   int64\n",
      " 3   num_label  1100 non-null   int64\n",
      "dtypes: int64(4)\n",
      "memory usage: 43.0 KB\n"
     ]
    }
   ],
   "source": [
    "pre_data = data.loc[data['num_label'].isin([0, 1, 2, 3, 4]), ['N', 'P', 'K', 'num_label']].apply(pd.to_numeric)\n",
    "\n",
    "pre_data.info()"
   ]
  },
  {
   "cell_type": "code",
   "execution_count": 13,
   "id": "d59648c7-d567-448c-a06b-60d8d57cd1f2",
   "metadata": {
    "tags": []
   },
   "outputs": [],
   "source": [
    "y= pre_data.pop('num_label')"
   ]
  },
  {
   "cell_type": "code",
   "execution_count": 14,
   "id": "02937361-f241-4f49-ab64-3f088bddc09f",
   "metadata": {
    "tags": []
   },
   "outputs": [],
   "source": [
    "X_train, X_test, y_train, y_test = train_test_split(pre_data, y, test_size=0.25, random_state=5691)"
   ]
  },
  {
   "cell_type": "code",
   "execution_count": 15,
   "id": "7380c5e4-098e-4f3b-89f7-c627953a63e9",
   "metadata": {
    "tags": []
   },
   "outputs": [],
   "source": [
    "acc = []\n",
    "model = []"
   ]
  },
  {
   "cell_type": "code",
   "execution_count": 16,
   "id": "b786b7bb-51e4-446f-a313-c70d32ce91e7",
   "metadata": {
    "tags": []
   },
   "outputs": [
    {
     "name": "stdout",
     "output_type": "stream",
     "text": [
      "KNN Accuracy is:  0.8836363636363637\n",
      "              precision    recall  f1-score   support\n",
      "\n",
      "           0       0.91      0.81      0.86        26\n",
      "           1       1.00      1.00      1.00        74\n",
      "           2       0.67      0.72      0.69        46\n",
      "           3       1.00      1.00      1.00        71\n",
      "           4       0.76      0.76      0.76        58\n",
      "\n",
      "    accuracy                           0.88       275\n",
      "   macro avg       0.87      0.86      0.86       275\n",
      "weighted avg       0.89      0.88      0.88       275\n",
      "\n"
     ]
    }
   ],
   "source": [
    "from sklearn.neighbors import KNeighborsClassifier\n",
    "knn = KNeighborsClassifier()\n",
    "\n",
    "knn.fit(X_train,y_train)\n",
    "\n",
    "predicted_values = knn.predict(X_test)\n",
    "\n",
    "x = metrics.accuracy_score(y_test, predicted_values)\n",
    "acc.append(x)\n",
    "model.append('K Nearest Neighbours')\n",
    "print(\"KNN Accuracy is: \", x)\n",
    "\n",
    "print(classification_report(y_test,predicted_values))"
   ]
  },
  {
   "cell_type": "code",
   "execution_count": 17,
   "id": "2b490a19-29c5-4629-b8c7-022ccb9ea066",
   "metadata": {
    "tags": []
   },
   "outputs": [
    {
     "name": "stdout",
     "output_type": "stream",
     "text": [
      "Decision Tree's Accuracy is:  86.18181818181819\n",
      "              precision    recall  f1-score   support\n",
      "\n",
      "           0       1.00      0.73      0.84        26\n",
      "           1       0.94      1.00      0.97        74\n",
      "           2       0.58      0.96      0.72        46\n",
      "           3       1.00      0.97      0.99        71\n",
      "           4       0.97      0.53      0.69        58\n",
      "\n",
      "    accuracy                           0.86       275\n",
      "   macro avg       0.90      0.84      0.84       275\n",
      "weighted avg       0.91      0.86      0.86       275\n",
      "\n"
     ]
    }
   ],
   "source": [
    "from sklearn.tree import DecisionTreeClassifier\n",
    "DT = DecisionTreeClassifier(criterion=\"entropy\",random_state=2,max_depth=5)\n",
    "\n",
    "DT.fit(X_train,y_train)\n",
    "\n",
    "predicted_values = DT.predict(X_test)\n",
    "x = metrics.accuracy_score(y_test, predicted_values)\n",
    "acc.append(x)\n",
    "model.append('Decision Tree')\n",
    "print(\"Decision Tree's Accuracy is: \", x*100)\n",
    "\n",
    "print(classification_report(y_test,predicted_values))"
   ]
  },
  {
   "cell_type": "code",
   "execution_count": 18,
   "id": "15762368-1936-4bdb-9af1-01b897c8ca49",
   "metadata": {
    "tags": []
   },
   "outputs": [
    {
     "name": "stdout",
     "output_type": "stream",
     "text": [
      "Random Forest Accuracy is:  0.8981818181818182\n",
      "              precision    recall  f1-score   support\n",
      "\n",
      "           0       1.00      0.92      0.96        26\n",
      "           1       1.00      1.00      1.00        74\n",
      "           2       0.68      0.78      0.73        46\n",
      "           3       1.00      1.00      1.00        71\n",
      "           4       0.79      0.72      0.76        58\n",
      "\n",
      "    accuracy                           0.90       275\n",
      "   macro avg       0.89      0.89      0.89       275\n",
      "weighted avg       0.90      0.90      0.90       275\n",
      "\n"
     ]
    }
   ],
   "source": [
    "from sklearn.ensemble import RandomForestClassifier\n",
    "\n",
    "RF = RandomForestClassifier(n_estimators=20, random_state=0)\n",
    "RF.fit(X_train,y_train)\n",
    "\n",
    "predicted_values = RF.predict(X_test)\n",
    "\n",
    "x = metrics.accuracy_score(y_test, predicted_values)\n",
    "acc.append(x)\n",
    "model.append('RF')\n",
    "print(\"Random Forest Accuracy is: \", x)\n",
    "\n",
    "print(classification_report(y_test,predicted_values))"
   ]
  },
  {
   "cell_type": "code",
   "execution_count": 19,
   "id": "9b74803d-428e-4a4b-affb-0c1c9b9623db",
   "metadata": {
    "tags": []
   },
   "outputs": [
    {
     "name": "stdout",
     "output_type": "stream",
     "text": [
      "XGBoost Accuracy is:  0.9054545454545454\n",
      "              precision    recall  f1-score   support\n",
      "\n",
      "           0       0.96      0.96      0.96        26\n",
      "           1       1.00      1.00      1.00        74\n",
      "           2       0.71      0.76      0.74        46\n",
      "           3       1.00      1.00      1.00        71\n",
      "           4       0.80      0.76      0.78        58\n",
      "\n",
      "    accuracy                           0.91       275\n",
      "   macro avg       0.90      0.90      0.90       275\n",
      "weighted avg       0.91      0.91      0.91       275\n",
      "\n"
     ]
    }
   ],
   "source": [
    "import xgboost as xgb\n",
    "XB = xgb.XGBClassifier()\n",
    "XB.fit(X_train,y_train)\n",
    "\n",
    "predicted_values = XB.predict(X_test)\n",
    "\n",
    "x = metrics.accuracy_score(y_test, predicted_values);\n",
    "acc.append(x)\n",
    "model.append('XGBoost')\n",
    "print(\"XGBoost Accuracy is: \", x)\n",
    "\n",
    "print(classification_report(y_test,predicted_values))"
   ]
  },
  {
   "cell_type": "markdown",
   "id": "97d835b0-047e-4eb5-8256-cc99a2944075",
   "metadata": {},
   "source": [
    "## another section"
   ]
  },
  {
   "cell_type": "code",
   "execution_count": 20,
   "id": "0d3b0181-6a9b-4458-b76b-150404498d35",
   "metadata": {
    "tags": []
   },
   "outputs": [],
   "source": [
    "rice_yield= {'2019-2020': 3.1,\n",
    "      '2020-2021': 2.9,\n",
    "      '2021-2022': 3.0,\n",
    "      '2022-2023': 3.1}\n",
    "rice_price = {'2019-2020': 25770,\n",
    "      '2020-2021': 26870 ,\n",
    "      '2021-2022': 30450,\n",
    "      '2022-2023': 32640}"
   ]
  },
  {
   "cell_type": "code",
   "execution_count": 21,
   "id": "63367d03-6a94-4480-9957-711ded3b6280",
   "metadata": {
    "tags": []
   },
   "outputs": [
    {
     "data": {
      "text/html": [
       "<div>\n",
       "<style scoped>\n",
       "    .dataframe tbody tr th:only-of-type {\n",
       "        vertical-align: middle;\n",
       "    }\n",
       "\n",
       "    .dataframe tbody tr th {\n",
       "        vertical-align: top;\n",
       "    }\n",
       "\n",
       "    .dataframe thead th {\n",
       "        text-align: right;\n",
       "    }\n",
       "</style>\n",
       "<table border=\"1\" class=\"dataframe\">\n",
       "  <thead>\n",
       "    <tr style=\"text-align: right;\">\n",
       "      <th></th>\n",
       "      <th>N</th>\n",
       "      <th>P</th>\n",
       "      <th>K</th>\n",
       "      <th>temperature</th>\n",
       "      <th>humidity</th>\n",
       "      <th>ph</th>\n",
       "      <th>rainfall</th>\n",
       "      <th>label</th>\n",
       "      <th>num_label</th>\n",
       "      <th>num_label_2</th>\n",
       "    </tr>\n",
       "  </thead>\n",
       "  <tbody>\n",
       "    <tr>\n",
       "      <th>1900</th>\n",
       "      <td>133</td>\n",
       "      <td>47</td>\n",
       "      <td>24</td>\n",
       "      <td>24.402289</td>\n",
       "      <td>79.197320</td>\n",
       "      <td>7.231325</td>\n",
       "      <td>90.802236</td>\n",
       "      <td>cotton</td>\n",
       "      <td>4</td>\n",
       "      <td></td>\n",
       "    </tr>\n",
       "    <tr>\n",
       "      <th>1901</th>\n",
       "      <td>136</td>\n",
       "      <td>36</td>\n",
       "      <td>20</td>\n",
       "      <td>23.095956</td>\n",
       "      <td>84.862757</td>\n",
       "      <td>6.925412</td>\n",
       "      <td>71.295811</td>\n",
       "      <td>cotton</td>\n",
       "      <td>4</td>\n",
       "      <td></td>\n",
       "    </tr>\n",
       "    <tr>\n",
       "      <th>1902</th>\n",
       "      <td>104</td>\n",
       "      <td>47</td>\n",
       "      <td>18</td>\n",
       "      <td>23.965635</td>\n",
       "      <td>76.976967</td>\n",
       "      <td>7.633437</td>\n",
       "      <td>90.756167</td>\n",
       "      <td>cotton</td>\n",
       "      <td>4</td>\n",
       "      <td></td>\n",
       "    </tr>\n",
       "    <tr>\n",
       "      <th>1903</th>\n",
       "      <td>133</td>\n",
       "      <td>47</td>\n",
       "      <td>23</td>\n",
       "      <td>24.887381</td>\n",
       "      <td>75.621372</td>\n",
       "      <td>6.827355</td>\n",
       "      <td>89.760504</td>\n",
       "      <td>cotton</td>\n",
       "      <td>4</td>\n",
       "      <td></td>\n",
       "    </tr>\n",
       "    <tr>\n",
       "      <th>1904</th>\n",
       "      <td>126</td>\n",
       "      <td>38</td>\n",
       "      <td>23</td>\n",
       "      <td>25.362438</td>\n",
       "      <td>83.632761</td>\n",
       "      <td>6.176716</td>\n",
       "      <td>88.436189</td>\n",
       "      <td>cotton</td>\n",
       "      <td>4</td>\n",
       "      <td></td>\n",
       "    </tr>\n",
       "    <tr>\n",
       "      <th>...</th>\n",
       "      <td>...</td>\n",
       "      <td>...</td>\n",
       "      <td>...</td>\n",
       "      <td>...</td>\n",
       "      <td>...</td>\n",
       "      <td>...</td>\n",
       "      <td>...</td>\n",
       "      <td>...</td>\n",
       "      <td>...</td>\n",
       "      <td>...</td>\n",
       "    </tr>\n",
       "    <tr>\n",
       "      <th>2095</th>\n",
       "      <td>87</td>\n",
       "      <td>44</td>\n",
       "      <td>43</td>\n",
       "      <td>23.874845</td>\n",
       "      <td>86.792613</td>\n",
       "      <td>6.718725</td>\n",
       "      <td>177.514731</td>\n",
       "      <td>jute</td>\n",
       "      <td>4</td>\n",
       "      <td></td>\n",
       "    </tr>\n",
       "    <tr>\n",
       "      <th>2096</th>\n",
       "      <td>88</td>\n",
       "      <td>52</td>\n",
       "      <td>39</td>\n",
       "      <td>23.928879</td>\n",
       "      <td>88.071123</td>\n",
       "      <td>6.880205</td>\n",
       "      <td>154.660874</td>\n",
       "      <td>jute</td>\n",
       "      <td>4</td>\n",
       "      <td></td>\n",
       "    </tr>\n",
       "    <tr>\n",
       "      <th>2097</th>\n",
       "      <td>90</td>\n",
       "      <td>39</td>\n",
       "      <td>37</td>\n",
       "      <td>24.814412</td>\n",
       "      <td>81.686889</td>\n",
       "      <td>6.861069</td>\n",
       "      <td>190.788639</td>\n",
       "      <td>jute</td>\n",
       "      <td>4</td>\n",
       "      <td></td>\n",
       "    </tr>\n",
       "    <tr>\n",
       "      <th>2098</th>\n",
       "      <td>90</td>\n",
       "      <td>39</td>\n",
       "      <td>43</td>\n",
       "      <td>24.447439</td>\n",
       "      <td>82.286484</td>\n",
       "      <td>6.769346</td>\n",
       "      <td>190.968489</td>\n",
       "      <td>jute</td>\n",
       "      <td>4</td>\n",
       "      <td></td>\n",
       "    </tr>\n",
       "    <tr>\n",
       "      <th>2099</th>\n",
       "      <td>84</td>\n",
       "      <td>38</td>\n",
       "      <td>43</td>\n",
       "      <td>26.574217</td>\n",
       "      <td>73.819949</td>\n",
       "      <td>7.261581</td>\n",
       "      <td>159.322307</td>\n",
       "      <td>jute</td>\n",
       "      <td>4</td>\n",
       "      <td></td>\n",
       "    </tr>\n",
       "  </tbody>\n",
       "</table>\n",
       "<p>200 rows × 10 columns</p>\n",
       "</div>"
      ],
      "text/plain": [
       "        N   P   K  temperature   humidity        ph    rainfall   label  \\\n",
       "1900  133  47  24    24.402289  79.197320  7.231325   90.802236  cotton   \n",
       "1901  136  36  20    23.095956  84.862757  6.925412   71.295811  cotton   \n",
       "1902  104  47  18    23.965635  76.976967  7.633437   90.756167  cotton   \n",
       "1903  133  47  23    24.887381  75.621372  6.827355   89.760504  cotton   \n",
       "1904  126  38  23    25.362438  83.632761  6.176716   88.436189  cotton   \n",
       "...   ...  ..  ..          ...        ...       ...         ...     ...   \n",
       "2095   87  44  43    23.874845  86.792613  6.718725  177.514731    jute   \n",
       "2096   88  52  39    23.928879  88.071123  6.880205  154.660874    jute   \n",
       "2097   90  39  37    24.814412  81.686889  6.861069  190.788639    jute   \n",
       "2098   90  39  43    24.447439  82.286484  6.769346  190.968489    jute   \n",
       "2099   84  38  43    26.574217  73.819949  7.261581  159.322307    jute   \n",
       "\n",
       "     num_label num_label_2  \n",
       "1900         4              \n",
       "1901         4              \n",
       "1902         4              \n",
       "1903         4              \n",
       "1904         4              \n",
       "...        ...         ...  \n",
       "2095         4              \n",
       "2096         4              \n",
       "2097         4              \n",
       "2098         4              \n",
       "2099         4              \n",
       "\n",
       "[200 rows x 10 columns]"
      ]
     },
     "execution_count": 21,
     "metadata": {},
     "output_type": "execute_result"
    }
   ],
   "source": [
    "fibre_df = data.loc[data['num_label'] ==4, :]\n",
    "fibre_df#['N'].agg(['min', 'max'])"
   ]
  },
  {
   "cell_type": "code",
   "execution_count": 22,
   "id": "dc63a960-977d-45f5-b008-edae949d9e27",
   "metadata": {
    "tags": []
   },
   "outputs": [],
   "source": [
    "fibre_df.loc[fibre_df['label'].isin(['cotton']), 'num_label_2'] = 1 \n",
    "fibre_df.loc[fibre_df['label'].isin(['jute']), 'num_label_2'] = 2 "
   ]
  },
  {
   "cell_type": "code",
   "execution_count": 23,
   "id": "e01b2a6b-5692-466b-81de-e36d1704cb93",
   "metadata": {
    "tags": []
   },
   "outputs": [],
   "source": [
    "fibre_df= fibre_df.drop(columns= ['label', 'num_label'])\n",
    "fibre_df = fibre_df.apply(pd.to_numeric)"
   ]
  },
  {
   "cell_type": "code",
   "execution_count": 24,
   "id": "e720e467-a9a9-4f3b-b57e-df9d2b2fb601",
   "metadata": {
    "tags": []
   },
   "outputs": [
    {
     "data": {
      "text/html": [
       "<div>\n",
       "<style scoped>\n",
       "    .dataframe tbody tr th:only-of-type {\n",
       "        vertical-align: middle;\n",
       "    }\n",
       "\n",
       "    .dataframe tbody tr th {\n",
       "        vertical-align: top;\n",
       "    }\n",
       "\n",
       "    .dataframe thead th {\n",
       "        text-align: right;\n",
       "    }\n",
       "</style>\n",
       "<table border=\"1\" class=\"dataframe\">\n",
       "  <thead>\n",
       "    <tr style=\"text-align: right;\">\n",
       "      <th></th>\n",
       "      <th>N</th>\n",
       "      <th>P</th>\n",
       "      <th>K</th>\n",
       "    </tr>\n",
       "  </thead>\n",
       "  <tbody>\n",
       "    <tr>\n",
       "      <th>min</th>\n",
       "      <td>60</td>\n",
       "      <td>35</td>\n",
       "      <td>15</td>\n",
       "    </tr>\n",
       "    <tr>\n",
       "      <th>max</th>\n",
       "      <td>140</td>\n",
       "      <td>60</td>\n",
       "      <td>45</td>\n",
       "    </tr>\n",
       "  </tbody>\n",
       "</table>\n",
       "</div>"
      ],
      "text/plain": [
       "       N   P   K\n",
       "min   60  35  15\n",
       "max  140  60  45"
      ]
     },
     "execution_count": 24,
     "metadata": {},
     "output_type": "execute_result"
    }
   ],
   "source": [
    "fibre_df [['N', 'P', 'K']].agg(['min', 'max'])"
   ]
  },
  {
   "cell_type": "code",
   "execution_count": 25,
   "id": "43525dd4-cb6c-4ff4-94d6-b942baa16d91",
   "metadata": {
    "tags": []
   },
   "outputs": [
    {
     "data": {
      "text/html": [
       "<div>\n",
       "<style scoped>\n",
       "    .dataframe tbody tr th:only-of-type {\n",
       "        vertical-align: middle;\n",
       "    }\n",
       "\n",
       "    .dataframe tbody tr th {\n",
       "        vertical-align: top;\n",
       "    }\n",
       "\n",
       "    .dataframe thead th {\n",
       "        text-align: right;\n",
       "    }\n",
       "</style>\n",
       "<table border=\"1\" class=\"dataframe\">\n",
       "  <thead>\n",
       "    <tr style=\"text-align: right;\">\n",
       "      <th></th>\n",
       "      <th>N</th>\n",
       "      <th>P</th>\n",
       "      <th>K</th>\n",
       "    </tr>\n",
       "  </thead>\n",
       "  <tbody>\n",
       "    <tr>\n",
       "      <th>min</th>\n",
       "      <td>80</td>\n",
       "      <td>5</td>\n",
       "      <td>45</td>\n",
       "    </tr>\n",
       "    <tr>\n",
       "      <th>max</th>\n",
       "      <td>120</td>\n",
       "      <td>95</td>\n",
       "      <td>55</td>\n",
       "    </tr>\n",
       "  </tbody>\n",
       "</table>\n",
       "</div>"
      ],
      "text/plain": [
       "       N   P   K\n",
       "min   80   5  45\n",
       "max  120  95  55"
      ]
     },
     "execution_count": 25,
     "metadata": {},
     "output_type": "execute_result"
    }
   ],
   "source": [
    "fruits_df = data.loc[data['num_label'] ==1, :]\n",
    "fruits_df[['N', 'P', 'K']].agg(['min', 'max'])"
   ]
  },
  {
   "cell_type": "code",
   "execution_count": 26,
   "id": "bf2c4c05-90c3-44e1-96a5-8146246c17ac",
   "metadata": {
    "tags": []
   },
   "outputs": [
    {
     "data": {
      "text/plain": [
       "min     0\n",
       "max    60\n",
       "Name: N, dtype: int64"
      ]
     },
     "execution_count": 26,
     "metadata": {},
     "output_type": "execute_result"
    }
   ],
   "source": [
    "lentils_df = data.loc[data['num_label'] ==3, :]\n",
    "lentils_df['N'].agg(['min', 'max'])"
   ]
  },
  {
   "cell_type": "code",
   "execution_count": 27,
   "id": "c0537b38-1d6f-4684-be6b-c7f58dcc2fc7",
   "metadata": {
    "tags": []
   },
   "outputs": [],
   "source": [
    "cereal_df = data.loc[data['num_label'] ==2, :]"
   ]
  },
  {
   "cell_type": "code",
   "execution_count": 28,
   "id": "f7c97d89-f247-4339-bda2-3400c7fec2b8",
   "metadata": {
    "tags": []
   },
   "outputs": [
    {
     "data": {
      "text/plain": [
       "min     60\n",
       "max    100\n",
       "Name: N, dtype: int64"
      ]
     },
     "execution_count": 28,
     "metadata": {},
     "output_type": "execute_result"
    }
   ],
   "source": [
    "cereal_df['N'].agg(['min', 'max'])"
   ]
  },
  {
   "cell_type": "code",
   "execution_count": 29,
   "id": "49220153-5c1d-4a85-8be9-771c4f7e6dd9",
   "metadata": {
    "tags": []
   },
   "outputs": [],
   "source": [
    "cereal_df.loc[cereal_df['label'].isin(['rice']), 'num_label_2'] = 1 #1=rice"
   ]
  },
  {
   "cell_type": "code",
   "execution_count": 30,
   "id": "edfd05b1-fc54-483c-91c1-92d1f74ba996",
   "metadata": {
    "tags": []
   },
   "outputs": [],
   "source": [
    "cereal_df.loc[cereal_df['label'].isin(['maize']), 'num_label_2'] = 2 #2= maize"
   ]
  },
  {
   "cell_type": "code",
   "execution_count": 31,
   "id": "3a79c921-92b0-46f0-9b88-658cd0915e46",
   "metadata": {
    "tags": []
   },
   "outputs": [],
   "source": [
    "cereal_df= cereal_df.drop(columns= ['label', 'num_label'])"
   ]
  },
  {
   "cell_type": "code",
   "execution_count": 32,
   "id": "a91188ee-6c8c-466d-9854-1291e32c6fbe",
   "metadata": {
    "tags": []
   },
   "outputs": [
    {
     "data": {
      "text/html": [
       "<div>\n",
       "<style scoped>\n",
       "    .dataframe tbody tr th:only-of-type {\n",
       "        vertical-align: middle;\n",
       "    }\n",
       "\n",
       "    .dataframe tbody tr th {\n",
       "        vertical-align: top;\n",
       "    }\n",
       "\n",
       "    .dataframe thead th {\n",
       "        text-align: right;\n",
       "    }\n",
       "</style>\n",
       "<table border=\"1\" class=\"dataframe\">\n",
       "  <thead>\n",
       "    <tr style=\"text-align: right;\">\n",
       "      <th></th>\n",
       "      <th>N</th>\n",
       "      <th>P</th>\n",
       "      <th>K</th>\n",
       "    </tr>\n",
       "  </thead>\n",
       "  <tbody>\n",
       "    <tr>\n",
       "      <th>min</th>\n",
       "      <td>60</td>\n",
       "      <td>35</td>\n",
       "      <td>15</td>\n",
       "    </tr>\n",
       "    <tr>\n",
       "      <th>max</th>\n",
       "      <td>100</td>\n",
       "      <td>60</td>\n",
       "      <td>45</td>\n",
       "    </tr>\n",
       "  </tbody>\n",
       "</table>\n",
       "</div>"
      ],
      "text/plain": [
       "       N   P   K\n",
       "min   60  35  15\n",
       "max  100  60  45"
      ]
     },
     "execution_count": 32,
     "metadata": {},
     "output_type": "execute_result"
    }
   ],
   "source": [
    "cereal_df[['N', 'P', 'K']].agg(['min', 'max'])"
   ]
  },
  {
   "cell_type": "code",
   "execution_count": 33,
   "id": "56950f1f-3a1e-47e0-b06f-340495b52452",
   "metadata": {
    "tags": []
   },
   "outputs": [],
   "source": [
    "y = cereal_df.pop(\"num_label_2\")"
   ]
  },
  {
   "cell_type": "code",
   "execution_count": 34,
   "id": "d13ea58e-3154-468b-882d-7e6c02ae0569",
   "metadata": {
    "tags": []
   },
   "outputs": [],
   "source": [
    "X_train, X_test, y_train, y_test = train_test_split(cereal_df, y, test_size=0.25, random_state=5691)"
   ]
  },
  {
   "cell_type": "code",
   "execution_count": 35,
   "id": "93e8415a-08e5-4b3f-b715-3ecaeb1f9684",
   "metadata": {
    "tags": []
   },
   "outputs": [],
   "source": [
    "pipe = make_pipeline(\n",
    "    SelectFromModel(DecisionTreeRegressor()),\n",
    "    RandomForestRegressor()\n",
    ")"
   ]
  },
  {
   "cell_type": "code",
   "execution_count": 36,
   "id": "a87faad2-12ec-479a-bfe7-2d60247e150f",
   "metadata": {
    "tags": []
   },
   "outputs": [
    {
     "data": {
      "text/html": [
       "<style>#sk-container-id-1 {color: black;}#sk-container-id-1 pre{padding: 0;}#sk-container-id-1 div.sk-toggleable {background-color: white;}#sk-container-id-1 label.sk-toggleable__label {cursor: pointer;display: block;width: 100%;margin-bottom: 0;padding: 0.3em;box-sizing: border-box;text-align: center;}#sk-container-id-1 label.sk-toggleable__label-arrow:before {content: \"▸\";float: left;margin-right: 0.25em;color: #696969;}#sk-container-id-1 label.sk-toggleable__label-arrow:hover:before {color: black;}#sk-container-id-1 div.sk-estimator:hover label.sk-toggleable__label-arrow:before {color: black;}#sk-container-id-1 div.sk-toggleable__content {max-height: 0;max-width: 0;overflow: hidden;text-align: left;background-color: #f0f8ff;}#sk-container-id-1 div.sk-toggleable__content pre {margin: 0.2em;color: black;border-radius: 0.25em;background-color: #f0f8ff;}#sk-container-id-1 input.sk-toggleable__control:checked~div.sk-toggleable__content {max-height: 200px;max-width: 100%;overflow: auto;}#sk-container-id-1 input.sk-toggleable__control:checked~label.sk-toggleable__label-arrow:before {content: \"▾\";}#sk-container-id-1 div.sk-estimator input.sk-toggleable__control:checked~label.sk-toggleable__label {background-color: #d4ebff;}#sk-container-id-1 div.sk-label input.sk-toggleable__control:checked~label.sk-toggleable__label {background-color: #d4ebff;}#sk-container-id-1 input.sk-hidden--visually {border: 0;clip: rect(1px 1px 1px 1px);clip: rect(1px, 1px, 1px, 1px);height: 1px;margin: -1px;overflow: hidden;padding: 0;position: absolute;width: 1px;}#sk-container-id-1 div.sk-estimator {font-family: monospace;background-color: #f0f8ff;border: 1px dotted black;border-radius: 0.25em;box-sizing: border-box;margin-bottom: 0.5em;}#sk-container-id-1 div.sk-estimator:hover {background-color: #d4ebff;}#sk-container-id-1 div.sk-parallel-item::after {content: \"\";width: 100%;border-bottom: 1px solid gray;flex-grow: 1;}#sk-container-id-1 div.sk-label:hover label.sk-toggleable__label {background-color: #d4ebff;}#sk-container-id-1 div.sk-serial::before {content: \"\";position: absolute;border-left: 1px solid gray;box-sizing: border-box;top: 0;bottom: 0;left: 50%;z-index: 0;}#sk-container-id-1 div.sk-serial {display: flex;flex-direction: column;align-items: center;background-color: white;padding-right: 0.2em;padding-left: 0.2em;position: relative;}#sk-container-id-1 div.sk-item {position: relative;z-index: 1;}#sk-container-id-1 div.sk-parallel {display: flex;align-items: stretch;justify-content: center;background-color: white;position: relative;}#sk-container-id-1 div.sk-item::before, #sk-container-id-1 div.sk-parallel-item::before {content: \"\";position: absolute;border-left: 1px solid gray;box-sizing: border-box;top: 0;bottom: 0;left: 50%;z-index: -1;}#sk-container-id-1 div.sk-parallel-item {display: flex;flex-direction: column;z-index: 1;position: relative;background-color: white;}#sk-container-id-1 div.sk-parallel-item:first-child::after {align-self: flex-end;width: 50%;}#sk-container-id-1 div.sk-parallel-item:last-child::after {align-self: flex-start;width: 50%;}#sk-container-id-1 div.sk-parallel-item:only-child::after {width: 0;}#sk-container-id-1 div.sk-dashed-wrapped {border: 1px dashed gray;margin: 0 0.4em 0.5em 0.4em;box-sizing: border-box;padding-bottom: 0.4em;background-color: white;}#sk-container-id-1 div.sk-label label {font-family: monospace;font-weight: bold;display: inline-block;line-height: 1.2em;}#sk-container-id-1 div.sk-label-container {text-align: center;}#sk-container-id-1 div.sk-container {/* jupyter's `normalize.less` sets `[hidden] { display: none; }` but bootstrap.min.css set `[hidden] { display: none !important; }` so we also need the `!important` here to be able to override the default hidden behavior on the sphinx rendered scikit-learn.org. See: https://github.com/scikit-learn/scikit-learn/issues/21755 */display: inline-block !important;position: relative;}#sk-container-id-1 div.sk-text-repr-fallback {display: none;}</style><div id=\"sk-container-id-1\" class=\"sk-top-container\"><div class=\"sk-text-repr-fallback\"><pre>Pipeline(steps=[(&#x27;selectfrommodel&#x27;,\n",
       "                 SelectFromModel(estimator=DecisionTreeRegressor())),\n",
       "                (&#x27;randomforestregressor&#x27;, RandomForestRegressor())])</pre><b>In a Jupyter environment, please rerun this cell to show the HTML representation or trust the notebook. <br />On GitHub, the HTML representation is unable to render, please try loading this page with nbviewer.org.</b></div><div class=\"sk-container\" hidden><div class=\"sk-item sk-dashed-wrapped\"><div class=\"sk-label-container\"><div class=\"sk-label sk-toggleable\"><input class=\"sk-toggleable__control sk-hidden--visually\" id=\"sk-estimator-id-1\" type=\"checkbox\" ><label for=\"sk-estimator-id-1\" class=\"sk-toggleable__label sk-toggleable__label-arrow\">Pipeline</label><div class=\"sk-toggleable__content\"><pre>Pipeline(steps=[(&#x27;selectfrommodel&#x27;,\n",
       "                 SelectFromModel(estimator=DecisionTreeRegressor())),\n",
       "                (&#x27;randomforestregressor&#x27;, RandomForestRegressor())])</pre></div></div></div><div class=\"sk-serial\"><div class=\"sk-item sk-dashed-wrapped\"><div class=\"sk-label-container\"><div class=\"sk-label sk-toggleable\"><input class=\"sk-toggleable__control sk-hidden--visually\" id=\"sk-estimator-id-2\" type=\"checkbox\" ><label for=\"sk-estimator-id-2\" class=\"sk-toggleable__label sk-toggleable__label-arrow\">selectfrommodel: SelectFromModel</label><div class=\"sk-toggleable__content\"><pre>SelectFromModel(estimator=DecisionTreeRegressor())</pre></div></div></div><div class=\"sk-parallel\"><div class=\"sk-parallel-item\"><div class=\"sk-item\"><div class=\"sk-label-container\"><div class=\"sk-label sk-toggleable\"><input class=\"sk-toggleable__control sk-hidden--visually\" id=\"sk-estimator-id-3\" type=\"checkbox\" ><label for=\"sk-estimator-id-3\" class=\"sk-toggleable__label sk-toggleable__label-arrow\">estimator: DecisionTreeRegressor</label><div class=\"sk-toggleable__content\"><pre>DecisionTreeRegressor()</pre></div></div></div><div class=\"sk-serial\"><div class=\"sk-item\"><div class=\"sk-estimator sk-toggleable\"><input class=\"sk-toggleable__control sk-hidden--visually\" id=\"sk-estimator-id-4\" type=\"checkbox\" ><label for=\"sk-estimator-id-4\" class=\"sk-toggleable__label sk-toggleable__label-arrow\">DecisionTreeRegressor</label><div class=\"sk-toggleable__content\"><pre>DecisionTreeRegressor()</pre></div></div></div></div></div></div></div></div><div class=\"sk-item\"><div class=\"sk-estimator sk-toggleable\"><input class=\"sk-toggleable__control sk-hidden--visually\" id=\"sk-estimator-id-5\" type=\"checkbox\" ><label for=\"sk-estimator-id-5\" class=\"sk-toggleable__label sk-toggleable__label-arrow\">RandomForestRegressor</label><div class=\"sk-toggleable__content\"><pre>RandomForestRegressor()</pre></div></div></div></div></div></div></div>"
      ],
      "text/plain": [
       "Pipeline(steps=[('selectfrommodel',\n",
       "                 SelectFromModel(estimator=DecisionTreeRegressor())),\n",
       "                ('randomforestregressor', RandomForestRegressor())])"
      ]
     },
     "execution_count": 36,
     "metadata": {},
     "output_type": "execute_result"
    }
   ],
   "source": [
    "pipe.fit(X_train, y_train)"
   ]
  },
  {
   "cell_type": "code",
   "execution_count": 37,
   "id": "c7708d38-ca08-44e3-9a98-9df21057d73c",
   "metadata": {
    "tags": []
   },
   "outputs": [
    {
     "data": {
      "text/plain": [
       "1.0"
      ]
     },
     "execution_count": 37,
     "metadata": {},
     "output_type": "execute_result"
    }
   ],
   "source": [
    "r2_score(\n",
    "    y_true=y_train,\n",
    "    y_pred=pipe.predict(X_train)\n",
    ")"
   ]
  },
  {
   "cell_type": "code",
   "execution_count": 38,
   "id": "0f984106-1da7-4a74-b482-0ee63ef7f63f",
   "metadata": {
    "tags": []
   },
   "outputs": [
    {
     "data": {
      "text/plain": [
       "1.0"
      ]
     },
     "execution_count": 38,
     "metadata": {},
     "output_type": "execute_result"
    }
   ],
   "source": [
    "r2_score(\n",
    "    y_true=y_test,\n",
    "    y_pred=pipe.predict(X_test)\n",
    ")"
   ]
  },
  {
   "cell_type": "code",
   "execution_count": 39,
   "id": "e0c4458a-c74f-4a46-af07-56f67b092ca6",
   "metadata": {},
   "outputs": [],
   "source": [
    "import pickle"
   ]
  },
  {
   "cell_type": "code",
   "execution_count": 40,
   "id": "8ce71935-e881-4b79-ba31-7e3258c118f0",
   "metadata": {
    "tags": []
   },
   "outputs": [],
   "source": [
    "pickle.dump(pipe,\n",
    "            open(file='trained model/first_pipe.sav',\n",
    "                 mode='wb'))"
   ]
  },
  {
   "cell_type": "code",
   "execution_count": 41,
   "id": "8ab89895-9ee4-471d-ba0a-8b9d35ca3e07",
   "metadata": {
    "tags": []
   },
   "outputs": [
    {
     "data": {
      "text/html": [
       "<div>\n",
       "<style scoped>\n",
       "    .dataframe tbody tr th:only-of-type {\n",
       "        vertical-align: middle;\n",
       "    }\n",
       "\n",
       "    .dataframe tbody tr th {\n",
       "        vertical-align: top;\n",
       "    }\n",
       "\n",
       "    .dataframe thead th {\n",
       "        text-align: right;\n",
       "    }\n",
       "</style>\n",
       "<table border=\"1\" class=\"dataframe\">\n",
       "  <thead>\n",
       "    <tr style=\"text-align: right;\">\n",
       "      <th></th>\n",
       "      <th>N</th>\n",
       "      <th>P</th>\n",
       "      <th>K</th>\n",
       "      <th>temperature</th>\n",
       "      <th>humidity</th>\n",
       "      <th>ph</th>\n",
       "      <th>rainfall</th>\n",
       "      <th>label</th>\n",
       "      <th>num_label</th>\n",
       "      <th>num_label_2</th>\n",
       "    </tr>\n",
       "  </thead>\n",
       "  <tbody>\n",
       "    <tr>\n",
       "      <th>1000</th>\n",
       "      <td>91</td>\n",
       "      <td>94</td>\n",
       "      <td>46</td>\n",
       "      <td>29.367924</td>\n",
       "      <td>76.249001</td>\n",
       "      <td>6.149934</td>\n",
       "      <td>92.828409</td>\n",
       "      <td>banana</td>\n",
       "      <td>1</td>\n",
       "      <td></td>\n",
       "    </tr>\n",
       "    <tr>\n",
       "      <th>1001</th>\n",
       "      <td>105</td>\n",
       "      <td>95</td>\n",
       "      <td>50</td>\n",
       "      <td>27.333690</td>\n",
       "      <td>83.676752</td>\n",
       "      <td>5.849076</td>\n",
       "      <td>101.049479</td>\n",
       "      <td>banana</td>\n",
       "      <td>1</td>\n",
       "      <td></td>\n",
       "    </tr>\n",
       "    <tr>\n",
       "      <th>1002</th>\n",
       "      <td>108</td>\n",
       "      <td>92</td>\n",
       "      <td>53</td>\n",
       "      <td>27.400536</td>\n",
       "      <td>82.962213</td>\n",
       "      <td>6.276800</td>\n",
       "      <td>104.937800</td>\n",
       "      <td>banana</td>\n",
       "      <td>1</td>\n",
       "      <td></td>\n",
       "    </tr>\n",
       "    <tr>\n",
       "      <th>1003</th>\n",
       "      <td>86</td>\n",
       "      <td>76</td>\n",
       "      <td>54</td>\n",
       "      <td>29.315908</td>\n",
       "      <td>80.115857</td>\n",
       "      <td>5.926825</td>\n",
       "      <td>90.109781</td>\n",
       "      <td>banana</td>\n",
       "      <td>1</td>\n",
       "      <td></td>\n",
       "    </tr>\n",
       "    <tr>\n",
       "      <th>1004</th>\n",
       "      <td>80</td>\n",
       "      <td>77</td>\n",
       "      <td>49</td>\n",
       "      <td>26.054330</td>\n",
       "      <td>79.396545</td>\n",
       "      <td>5.519088</td>\n",
       "      <td>113.229737</td>\n",
       "      <td>banana</td>\n",
       "      <td>1</td>\n",
       "      <td></td>\n",
       "    </tr>\n",
       "    <tr>\n",
       "      <th>...</th>\n",
       "      <td>...</td>\n",
       "      <td>...</td>\n",
       "      <td>...</td>\n",
       "      <td>...</td>\n",
       "      <td>...</td>\n",
       "      <td>...</td>\n",
       "      <td>...</td>\n",
       "      <td>...</td>\n",
       "      <td>...</td>\n",
       "      <td>...</td>\n",
       "    </tr>\n",
       "    <tr>\n",
       "      <th>1495</th>\n",
       "      <td>96</td>\n",
       "      <td>13</td>\n",
       "      <td>55</td>\n",
       "      <td>29.527531</td>\n",
       "      <td>94.574594</td>\n",
       "      <td>6.700338</td>\n",
       "      <td>21.135457</td>\n",
       "      <td>muskmelon</td>\n",
       "      <td>1</td>\n",
       "      <td></td>\n",
       "    </tr>\n",
       "    <tr>\n",
       "      <th>1496</th>\n",
       "      <td>82</td>\n",
       "      <td>26</td>\n",
       "      <td>47</td>\n",
       "      <td>28.504164</td>\n",
       "      <td>93.468065</td>\n",
       "      <td>6.565313</td>\n",
       "      <td>24.200072</td>\n",
       "      <td>muskmelon</td>\n",
       "      <td>1</td>\n",
       "      <td></td>\n",
       "    </tr>\n",
       "    <tr>\n",
       "      <th>1497</th>\n",
       "      <td>106</td>\n",
       "      <td>21</td>\n",
       "      <td>52</td>\n",
       "      <td>28.895786</td>\n",
       "      <td>94.789930</td>\n",
       "      <td>6.286515</td>\n",
       "      <td>23.036250</td>\n",
       "      <td>muskmelon</td>\n",
       "      <td>1</td>\n",
       "      <td></td>\n",
       "    </tr>\n",
       "    <tr>\n",
       "      <th>1498</th>\n",
       "      <td>90</td>\n",
       "      <td>15</td>\n",
       "      <td>52</td>\n",
       "      <td>27.049275</td>\n",
       "      <td>91.382173</td>\n",
       "      <td>6.448062</td>\n",
       "      <td>23.657475</td>\n",
       "      <td>muskmelon</td>\n",
       "      <td>1</td>\n",
       "      <td></td>\n",
       "    </tr>\n",
       "    <tr>\n",
       "      <th>1499</th>\n",
       "      <td>106</td>\n",
       "      <td>16</td>\n",
       "      <td>54</td>\n",
       "      <td>28.960179</td>\n",
       "      <td>91.695322</td>\n",
       "      <td>6.585873</td>\n",
       "      <td>24.745820</td>\n",
       "      <td>muskmelon</td>\n",
       "      <td>1</td>\n",
       "      <td></td>\n",
       "    </tr>\n",
       "  </tbody>\n",
       "</table>\n",
       "<p>300 rows × 10 columns</p>\n",
       "</div>"
      ],
      "text/plain": [
       "        N   P   K  temperature   humidity        ph    rainfall      label  \\\n",
       "1000   91  94  46    29.367924  76.249001  6.149934   92.828409     banana   \n",
       "1001  105  95  50    27.333690  83.676752  5.849076  101.049479     banana   \n",
       "1002  108  92  53    27.400536  82.962213  6.276800  104.937800     banana   \n",
       "1003   86  76  54    29.315908  80.115857  5.926825   90.109781     banana   \n",
       "1004   80  77  49    26.054330  79.396545  5.519088  113.229737     banana   \n",
       "...   ...  ..  ..          ...        ...       ...         ...        ...   \n",
       "1495   96  13  55    29.527531  94.574594  6.700338   21.135457  muskmelon   \n",
       "1496   82  26  47    28.504164  93.468065  6.565313   24.200072  muskmelon   \n",
       "1497  106  21  52    28.895786  94.789930  6.286515   23.036250  muskmelon   \n",
       "1498   90  15  52    27.049275  91.382173  6.448062   23.657475  muskmelon   \n",
       "1499  106  16  54    28.960179  91.695322  6.585873   24.745820  muskmelon   \n",
       "\n",
       "     num_label num_label_2  \n",
       "1000         1              \n",
       "1001         1              \n",
       "1002         1              \n",
       "1003         1              \n",
       "1004         1              \n",
       "...        ...         ...  \n",
       "1495         1              \n",
       "1496         1              \n",
       "1497         1              \n",
       "1498         1              \n",
       "1499         1              \n",
       "\n",
       "[300 rows x 10 columns]"
      ]
     },
     "execution_count": 41,
     "metadata": {},
     "output_type": "execute_result"
    }
   ],
   "source": [
    "fruits_df"
   ]
  },
  {
   "cell_type": "code",
   "execution_count": 42,
   "id": "9a6af119-d44d-41f5-8cde-84e1e39652d5",
   "metadata": {
    "tags": []
   },
   "outputs": [],
   "source": [
    "fruits_df.loc[fruits_df['label'].isin(['banana']), 'num_label_2'] = 1 #1=banana"
   ]
  },
  {
   "cell_type": "code",
   "execution_count": 43,
   "id": "514bfa9d-bea9-4796-9a62-e9d498eaba67",
   "metadata": {
    "tags": []
   },
   "outputs": [],
   "source": [
    "fruits_df.loc[fruits_df['label'].isin(['muskmelon']), 'num_label_2'] = 2 #2= muskmelon"
   ]
  },
  {
   "cell_type": "code",
   "execution_count": 44,
   "id": "5b20aaf7-c5f7-4d58-8b32-3408869e047f",
   "metadata": {
    "tags": []
   },
   "outputs": [],
   "source": [
    "fruits_df.loc[fruits_df['label'].isin(['watermelon']), 'num_label_2'] = 3 #3= watermelon"
   ]
  },
  {
   "cell_type": "code",
   "execution_count": 45,
   "id": "47feea11-06ed-496b-a37b-72bd611f5b8e",
   "metadata": {
    "tags": []
   },
   "outputs": [
    {
     "data": {
      "text/html": [
       "<div>\n",
       "<style scoped>\n",
       "    .dataframe tbody tr th:only-of-type {\n",
       "        vertical-align: middle;\n",
       "    }\n",
       "\n",
       "    .dataframe tbody tr th {\n",
       "        vertical-align: top;\n",
       "    }\n",
       "\n",
       "    .dataframe thead th {\n",
       "        text-align: right;\n",
       "    }\n",
       "</style>\n",
       "<table border=\"1\" class=\"dataframe\">\n",
       "  <thead>\n",
       "    <tr style=\"text-align: right;\">\n",
       "      <th></th>\n",
       "      <th>N</th>\n",
       "      <th>P</th>\n",
       "      <th>K</th>\n",
       "      <th>temperature</th>\n",
       "      <th>humidity</th>\n",
       "      <th>ph</th>\n",
       "      <th>rainfall</th>\n",
       "      <th>label</th>\n",
       "      <th>num_label</th>\n",
       "      <th>num_label_2</th>\n",
       "    </tr>\n",
       "  </thead>\n",
       "  <tbody>\n",
       "    <tr>\n",
       "      <th>1300</th>\n",
       "      <td>119</td>\n",
       "      <td>25</td>\n",
       "      <td>51</td>\n",
       "      <td>26.473302</td>\n",
       "      <td>80.922544</td>\n",
       "      <td>6.283818</td>\n",
       "      <td>53.657426</td>\n",
       "      <td>watermelon</td>\n",
       "      <td>1</td>\n",
       "      <td>3</td>\n",
       "    </tr>\n",
       "    <tr>\n",
       "      <th>1301</th>\n",
       "      <td>119</td>\n",
       "      <td>19</td>\n",
       "      <td>55</td>\n",
       "      <td>25.187800</td>\n",
       "      <td>83.446217</td>\n",
       "      <td>6.818261</td>\n",
       "      <td>46.874209</td>\n",
       "      <td>watermelon</td>\n",
       "      <td>1</td>\n",
       "      <td>3</td>\n",
       "    </tr>\n",
       "    <tr>\n",
       "      <th>1302</th>\n",
       "      <td>105</td>\n",
       "      <td>30</td>\n",
       "      <td>50</td>\n",
       "      <td>25.299547</td>\n",
       "      <td>81.775276</td>\n",
       "      <td>6.376201</td>\n",
       "      <td>57.041471</td>\n",
       "      <td>watermelon</td>\n",
       "      <td>1</td>\n",
       "      <td>3</td>\n",
       "    </tr>\n",
       "    <tr>\n",
       "      <th>1303</th>\n",
       "      <td>114</td>\n",
       "      <td>8</td>\n",
       "      <td>50</td>\n",
       "      <td>24.746313</td>\n",
       "      <td>88.308663</td>\n",
       "      <td>6.581588</td>\n",
       "      <td>57.958261</td>\n",
       "      <td>watermelon</td>\n",
       "      <td>1</td>\n",
       "      <td>3</td>\n",
       "    </tr>\n",
       "    <tr>\n",
       "      <th>1304</th>\n",
       "      <td>93</td>\n",
       "      <td>22</td>\n",
       "      <td>52</td>\n",
       "      <td>26.587407</td>\n",
       "      <td>81.325632</td>\n",
       "      <td>6.932740</td>\n",
       "      <td>41.875400</td>\n",
       "      <td>watermelon</td>\n",
       "      <td>1</td>\n",
       "      <td>3</td>\n",
       "    </tr>\n",
       "    <tr>\n",
       "      <th>...</th>\n",
       "      <td>...</td>\n",
       "      <td>...</td>\n",
       "      <td>...</td>\n",
       "      <td>...</td>\n",
       "      <td>...</td>\n",
       "      <td>...</td>\n",
       "      <td>...</td>\n",
       "      <td>...</td>\n",
       "      <td>...</td>\n",
       "      <td>...</td>\n",
       "    </tr>\n",
       "    <tr>\n",
       "      <th>1395</th>\n",
       "      <td>97</td>\n",
       "      <td>12</td>\n",
       "      <td>47</td>\n",
       "      <td>25.287846</td>\n",
       "      <td>89.636679</td>\n",
       "      <td>6.765095</td>\n",
       "      <td>58.286977</td>\n",
       "      <td>watermelon</td>\n",
       "      <td>1</td>\n",
       "      <td>3</td>\n",
       "    </tr>\n",
       "    <tr>\n",
       "      <th>1396</th>\n",
       "      <td>110</td>\n",
       "      <td>7</td>\n",
       "      <td>45</td>\n",
       "      <td>26.638386</td>\n",
       "      <td>84.695469</td>\n",
       "      <td>6.189214</td>\n",
       "      <td>48.324286</td>\n",
       "      <td>watermelon</td>\n",
       "      <td>1</td>\n",
       "      <td>3</td>\n",
       "    </tr>\n",
       "    <tr>\n",
       "      <th>1397</th>\n",
       "      <td>96</td>\n",
       "      <td>18</td>\n",
       "      <td>50</td>\n",
       "      <td>25.331045</td>\n",
       "      <td>84.305338</td>\n",
       "      <td>6.904242</td>\n",
       "      <td>41.532187</td>\n",
       "      <td>watermelon</td>\n",
       "      <td>1</td>\n",
       "      <td>3</td>\n",
       "    </tr>\n",
       "    <tr>\n",
       "      <th>1398</th>\n",
       "      <td>83</td>\n",
       "      <td>23</td>\n",
       "      <td>55</td>\n",
       "      <td>26.897502</td>\n",
       "      <td>83.892415</td>\n",
       "      <td>6.463271</td>\n",
       "      <td>43.971937</td>\n",
       "      <td>watermelon</td>\n",
       "      <td>1</td>\n",
       "      <td>3</td>\n",
       "    </tr>\n",
       "    <tr>\n",
       "      <th>1399</th>\n",
       "      <td>120</td>\n",
       "      <td>24</td>\n",
       "      <td>47</td>\n",
       "      <td>26.986037</td>\n",
       "      <td>89.413849</td>\n",
       "      <td>6.260839</td>\n",
       "      <td>58.548767</td>\n",
       "      <td>watermelon</td>\n",
       "      <td>1</td>\n",
       "      <td>3</td>\n",
       "    </tr>\n",
       "  </tbody>\n",
       "</table>\n",
       "<p>100 rows × 10 columns</p>\n",
       "</div>"
      ],
      "text/plain": [
       "        N   P   K  temperature   humidity        ph   rainfall       label  \\\n",
       "1300  119  25  51    26.473302  80.922544  6.283818  53.657426  watermelon   \n",
       "1301  119  19  55    25.187800  83.446217  6.818261  46.874209  watermelon   \n",
       "1302  105  30  50    25.299547  81.775276  6.376201  57.041471  watermelon   \n",
       "1303  114   8  50    24.746313  88.308663  6.581588  57.958261  watermelon   \n",
       "1304   93  22  52    26.587407  81.325632  6.932740  41.875400  watermelon   \n",
       "...   ...  ..  ..          ...        ...       ...        ...         ...   \n",
       "1395   97  12  47    25.287846  89.636679  6.765095  58.286977  watermelon   \n",
       "1396  110   7  45    26.638386  84.695469  6.189214  48.324286  watermelon   \n",
       "1397   96  18  50    25.331045  84.305338  6.904242  41.532187  watermelon   \n",
       "1398   83  23  55    26.897502  83.892415  6.463271  43.971937  watermelon   \n",
       "1399  120  24  47    26.986037  89.413849  6.260839  58.548767  watermelon   \n",
       "\n",
       "     num_label num_label_2  \n",
       "1300         1           3  \n",
       "1301         1           3  \n",
       "1302         1           3  \n",
       "1303         1           3  \n",
       "1304         1           3  \n",
       "...        ...         ...  \n",
       "1395         1           3  \n",
       "1396         1           3  \n",
       "1397         1           3  \n",
       "1398         1           3  \n",
       "1399         1           3  \n",
       "\n",
       "[100 rows x 10 columns]"
      ]
     },
     "execution_count": 45,
     "metadata": {},
     "output_type": "execute_result"
    }
   ],
   "source": [
    "fruits_df.loc[fruits_df['num_label_2']== 3]"
   ]
  },
  {
   "cell_type": "code",
   "execution_count": 46,
   "id": "8c5131e3-929f-40da-a57e-e6fd47cfb0b6",
   "metadata": {
    "tags": []
   },
   "outputs": [],
   "source": [
    "fruits_df=fruits_df.drop(columns= ['label', 'num_label'])"
   ]
  },
  {
   "cell_type": "code",
   "execution_count": 47,
   "id": "1829c398-b5c5-4bf5-9b39-d21829613f13",
   "metadata": {
    "tags": []
   },
   "outputs": [],
   "source": [
    "y = fruits_df.pop(\"num_label_2\")"
   ]
  },
  {
   "cell_type": "code",
   "execution_count": 48,
   "id": "b5a210c0-bce3-4994-a23d-5f01d5bb3f60",
   "metadata": {
    "tags": []
   },
   "outputs": [],
   "source": [
    "X_train, X_test, y_train, y_test = train_test_split(fruits_df, y, test_size=0.25, random_state=5691)"
   ]
  },
  {
   "cell_type": "code",
   "execution_count": 49,
   "id": "b4d00e05-c1ef-4331-92ec-5784c208703e",
   "metadata": {
    "tags": []
   },
   "outputs": [],
   "source": [
    "pipe = make_pipeline(\n",
    "    SelectFromModel(DecisionTreeRegressor()),\n",
    "    RandomForestRegressor()\n",
    ")"
   ]
  },
  {
   "cell_type": "code",
   "execution_count": 50,
   "id": "0de896e9-e37e-4306-ae79-106848e09535",
   "metadata": {
    "tags": []
   },
   "outputs": [
    {
     "data": {
      "text/html": [
       "<style>#sk-container-id-2 {color: black;}#sk-container-id-2 pre{padding: 0;}#sk-container-id-2 div.sk-toggleable {background-color: white;}#sk-container-id-2 label.sk-toggleable__label {cursor: pointer;display: block;width: 100%;margin-bottom: 0;padding: 0.3em;box-sizing: border-box;text-align: center;}#sk-container-id-2 label.sk-toggleable__label-arrow:before {content: \"▸\";float: left;margin-right: 0.25em;color: #696969;}#sk-container-id-2 label.sk-toggleable__label-arrow:hover:before {color: black;}#sk-container-id-2 div.sk-estimator:hover label.sk-toggleable__label-arrow:before {color: black;}#sk-container-id-2 div.sk-toggleable__content {max-height: 0;max-width: 0;overflow: hidden;text-align: left;background-color: #f0f8ff;}#sk-container-id-2 div.sk-toggleable__content pre {margin: 0.2em;color: black;border-radius: 0.25em;background-color: #f0f8ff;}#sk-container-id-2 input.sk-toggleable__control:checked~div.sk-toggleable__content {max-height: 200px;max-width: 100%;overflow: auto;}#sk-container-id-2 input.sk-toggleable__control:checked~label.sk-toggleable__label-arrow:before {content: \"▾\";}#sk-container-id-2 div.sk-estimator input.sk-toggleable__control:checked~label.sk-toggleable__label {background-color: #d4ebff;}#sk-container-id-2 div.sk-label input.sk-toggleable__control:checked~label.sk-toggleable__label {background-color: #d4ebff;}#sk-container-id-2 input.sk-hidden--visually {border: 0;clip: rect(1px 1px 1px 1px);clip: rect(1px, 1px, 1px, 1px);height: 1px;margin: -1px;overflow: hidden;padding: 0;position: absolute;width: 1px;}#sk-container-id-2 div.sk-estimator {font-family: monospace;background-color: #f0f8ff;border: 1px dotted black;border-radius: 0.25em;box-sizing: border-box;margin-bottom: 0.5em;}#sk-container-id-2 div.sk-estimator:hover {background-color: #d4ebff;}#sk-container-id-2 div.sk-parallel-item::after {content: \"\";width: 100%;border-bottom: 1px solid gray;flex-grow: 1;}#sk-container-id-2 div.sk-label:hover label.sk-toggleable__label {background-color: #d4ebff;}#sk-container-id-2 div.sk-serial::before {content: \"\";position: absolute;border-left: 1px solid gray;box-sizing: border-box;top: 0;bottom: 0;left: 50%;z-index: 0;}#sk-container-id-2 div.sk-serial {display: flex;flex-direction: column;align-items: center;background-color: white;padding-right: 0.2em;padding-left: 0.2em;position: relative;}#sk-container-id-2 div.sk-item {position: relative;z-index: 1;}#sk-container-id-2 div.sk-parallel {display: flex;align-items: stretch;justify-content: center;background-color: white;position: relative;}#sk-container-id-2 div.sk-item::before, #sk-container-id-2 div.sk-parallel-item::before {content: \"\";position: absolute;border-left: 1px solid gray;box-sizing: border-box;top: 0;bottom: 0;left: 50%;z-index: -1;}#sk-container-id-2 div.sk-parallel-item {display: flex;flex-direction: column;z-index: 1;position: relative;background-color: white;}#sk-container-id-2 div.sk-parallel-item:first-child::after {align-self: flex-end;width: 50%;}#sk-container-id-2 div.sk-parallel-item:last-child::after {align-self: flex-start;width: 50%;}#sk-container-id-2 div.sk-parallel-item:only-child::after {width: 0;}#sk-container-id-2 div.sk-dashed-wrapped {border: 1px dashed gray;margin: 0 0.4em 0.5em 0.4em;box-sizing: border-box;padding-bottom: 0.4em;background-color: white;}#sk-container-id-2 div.sk-label label {font-family: monospace;font-weight: bold;display: inline-block;line-height: 1.2em;}#sk-container-id-2 div.sk-label-container {text-align: center;}#sk-container-id-2 div.sk-container {/* jupyter's `normalize.less` sets `[hidden] { display: none; }` but bootstrap.min.css set `[hidden] { display: none !important; }` so we also need the `!important` here to be able to override the default hidden behavior on the sphinx rendered scikit-learn.org. See: https://github.com/scikit-learn/scikit-learn/issues/21755 */display: inline-block !important;position: relative;}#sk-container-id-2 div.sk-text-repr-fallback {display: none;}</style><div id=\"sk-container-id-2\" class=\"sk-top-container\"><div class=\"sk-text-repr-fallback\"><pre>Pipeline(steps=[(&#x27;selectfrommodel&#x27;,\n",
       "                 SelectFromModel(estimator=DecisionTreeRegressor())),\n",
       "                (&#x27;randomforestregressor&#x27;, RandomForestRegressor())])</pre><b>In a Jupyter environment, please rerun this cell to show the HTML representation or trust the notebook. <br />On GitHub, the HTML representation is unable to render, please try loading this page with nbviewer.org.</b></div><div class=\"sk-container\" hidden><div class=\"sk-item sk-dashed-wrapped\"><div class=\"sk-label-container\"><div class=\"sk-label sk-toggleable\"><input class=\"sk-toggleable__control sk-hidden--visually\" id=\"sk-estimator-id-6\" type=\"checkbox\" ><label for=\"sk-estimator-id-6\" class=\"sk-toggleable__label sk-toggleable__label-arrow\">Pipeline</label><div class=\"sk-toggleable__content\"><pre>Pipeline(steps=[(&#x27;selectfrommodel&#x27;,\n",
       "                 SelectFromModel(estimator=DecisionTreeRegressor())),\n",
       "                (&#x27;randomforestregressor&#x27;, RandomForestRegressor())])</pre></div></div></div><div class=\"sk-serial\"><div class=\"sk-item sk-dashed-wrapped\"><div class=\"sk-label-container\"><div class=\"sk-label sk-toggleable\"><input class=\"sk-toggleable__control sk-hidden--visually\" id=\"sk-estimator-id-7\" type=\"checkbox\" ><label for=\"sk-estimator-id-7\" class=\"sk-toggleable__label sk-toggleable__label-arrow\">selectfrommodel: SelectFromModel</label><div class=\"sk-toggleable__content\"><pre>SelectFromModel(estimator=DecisionTreeRegressor())</pre></div></div></div><div class=\"sk-parallel\"><div class=\"sk-parallel-item\"><div class=\"sk-item\"><div class=\"sk-label-container\"><div class=\"sk-label sk-toggleable\"><input class=\"sk-toggleable__control sk-hidden--visually\" id=\"sk-estimator-id-8\" type=\"checkbox\" ><label for=\"sk-estimator-id-8\" class=\"sk-toggleable__label sk-toggleable__label-arrow\">estimator: DecisionTreeRegressor</label><div class=\"sk-toggleable__content\"><pre>DecisionTreeRegressor()</pre></div></div></div><div class=\"sk-serial\"><div class=\"sk-item\"><div class=\"sk-estimator sk-toggleable\"><input class=\"sk-toggleable__control sk-hidden--visually\" id=\"sk-estimator-id-9\" type=\"checkbox\" ><label for=\"sk-estimator-id-9\" class=\"sk-toggleable__label sk-toggleable__label-arrow\">DecisionTreeRegressor</label><div class=\"sk-toggleable__content\"><pre>DecisionTreeRegressor()</pre></div></div></div></div></div></div></div></div><div class=\"sk-item\"><div class=\"sk-estimator sk-toggleable\"><input class=\"sk-toggleable__control sk-hidden--visually\" id=\"sk-estimator-id-10\" type=\"checkbox\" ><label for=\"sk-estimator-id-10\" class=\"sk-toggleable__label sk-toggleable__label-arrow\">RandomForestRegressor</label><div class=\"sk-toggleable__content\"><pre>RandomForestRegressor()</pre></div></div></div></div></div></div></div>"
      ],
      "text/plain": [
       "Pipeline(steps=[('selectfrommodel',\n",
       "                 SelectFromModel(estimator=DecisionTreeRegressor())),\n",
       "                ('randomforestregressor', RandomForestRegressor())])"
      ]
     },
     "execution_count": 50,
     "metadata": {},
     "output_type": "execute_result"
    }
   ],
   "source": [
    "pipe.fit(X_train, y_train)"
   ]
  },
  {
   "cell_type": "code",
   "execution_count": 51,
   "id": "e1e95378-7391-4891-a5c8-4942e02d9103",
   "metadata": {
    "tags": []
   },
   "outputs": [
    {
     "data": {
      "text/plain": [
       "0.9985916789396171"
      ]
     },
     "execution_count": 51,
     "metadata": {},
     "output_type": "execute_result"
    }
   ],
   "source": [
    "r2_score(\n",
    "    y_true=y_train,\n",
    "    y_pred=pipe.predict(X_train)\n",
    ")"
   ]
  },
  {
   "cell_type": "code",
   "execution_count": 52,
   "id": "b98124b0-3739-47f3-b695-d00e1528394e",
   "metadata": {
    "tags": []
   },
   "outputs": [
    {
     "data": {
      "text/plain": [
       "0.9999979452054795"
      ]
     },
     "execution_count": 52,
     "metadata": {},
     "output_type": "execute_result"
    }
   ],
   "source": [
    "r2_score(\n",
    "    y_true=y_test,\n",
    "    y_pred=pipe.predict(X_test)\n",
    ")"
   ]
  },
  {
   "cell_type": "code",
   "execution_count": 53,
   "id": "67cee755-6877-4c6c-95d6-f13a173613fa",
   "metadata": {
    "tags": []
   },
   "outputs": [],
   "source": [
    "pickle.dump(pipe,\n",
    "            open(file='trained model/fruit_pipe.sav',\n",
    "                 mode='wb'))"
   ]
  },
  {
   "cell_type": "code",
   "execution_count": 54,
   "id": "cdc65dd0-a58c-4eaf-b2f2-66e1ba6681c8",
   "metadata": {
    "tags": []
   },
   "outputs": [
    {
     "data": {
      "text/html": [
       "<div>\n",
       "<style scoped>\n",
       "    .dataframe tbody tr th:only-of-type {\n",
       "        vertical-align: middle;\n",
       "    }\n",
       "\n",
       "    .dataframe tbody tr th {\n",
       "        vertical-align: top;\n",
       "    }\n",
       "\n",
       "    .dataframe thead th {\n",
       "        text-align: right;\n",
       "    }\n",
       "</style>\n",
       "<table border=\"1\" class=\"dataframe\">\n",
       "  <thead>\n",
       "    <tr style=\"text-align: right;\">\n",
       "      <th></th>\n",
       "      <th>N</th>\n",
       "      <th>P</th>\n",
       "      <th>K</th>\n",
       "    </tr>\n",
       "  </thead>\n",
       "  <tbody>\n",
       "    <tr>\n",
       "      <th>min</th>\n",
       "      <td>0</td>\n",
       "      <td>35</td>\n",
       "      <td>15</td>\n",
       "    </tr>\n",
       "    <tr>\n",
       "      <th>max</th>\n",
       "      <td>60</td>\n",
       "      <td>80</td>\n",
       "      <td>85</td>\n",
       "    </tr>\n",
       "  </tbody>\n",
       "</table>\n",
       "</div>"
      ],
      "text/plain": [
       "      N   P   K\n",
       "min   0  35  15\n",
       "max  60  80  85"
      ]
     },
     "execution_count": 54,
     "metadata": {},
     "output_type": "execute_result"
    }
   ],
   "source": [
    "lentils_df[['N', 'P', 'K']].agg(['min', 'max'])"
   ]
  },
  {
   "cell_type": "code",
   "execution_count": 55,
   "id": "819bb896-6d6e-490e-a809-6b067debbbec",
   "metadata": {
    "tags": []
   },
   "outputs": [],
   "source": [
    "lentils_df= lentils_df.drop(columns= ['label', 'num_label'])\n",
    "lentils_df = lentils_df.apply(pd.to_numeric)"
   ]
  },
  {
   "cell_type": "code",
   "execution_count": 56,
   "id": "32476779-8761-4d56-887b-f1b3a4413392",
   "metadata": {
    "tags": []
   },
   "outputs": [
    {
     "ename": "KeyError",
     "evalue": "'label'",
     "output_type": "error",
     "traceback": [
      "\u001b[1;31m---------------------------------------------------------------------------\u001b[0m",
      "\u001b[1;31mKeyError\u001b[0m                                  Traceback (most recent call last)",
      "File \u001b[1;32m~\\anaconda3\\Lib\\site-packages\\pandas\\core\\indexes\\base.py:3653\u001b[0m, in \u001b[0;36mIndex.get_loc\u001b[1;34m(self, key)\u001b[0m\n\u001b[0;32m   3652\u001b[0m \u001b[38;5;28;01mtry\u001b[39;00m:\n\u001b[1;32m-> 3653\u001b[0m     \u001b[38;5;28;01mreturn\u001b[39;00m \u001b[38;5;28mself\u001b[39m\u001b[38;5;241m.\u001b[39m_engine\u001b[38;5;241m.\u001b[39mget_loc(casted_key)\n\u001b[0;32m   3654\u001b[0m \u001b[38;5;28;01mexcept\u001b[39;00m \u001b[38;5;167;01mKeyError\u001b[39;00m \u001b[38;5;28;01mas\u001b[39;00m err:\n",
      "File \u001b[1;32m~\\anaconda3\\Lib\\site-packages\\pandas\\_libs\\index.pyx:147\u001b[0m, in \u001b[0;36mpandas._libs.index.IndexEngine.get_loc\u001b[1;34m()\u001b[0m\n",
      "File \u001b[1;32m~\\anaconda3\\Lib\\site-packages\\pandas\\_libs\\index.pyx:176\u001b[0m, in \u001b[0;36mpandas._libs.index.IndexEngine.get_loc\u001b[1;34m()\u001b[0m\n",
      "File \u001b[1;32mpandas\\_libs\\hashtable_class_helper.pxi:7080\u001b[0m, in \u001b[0;36mpandas._libs.hashtable.PyObjectHashTable.get_item\u001b[1;34m()\u001b[0m\n",
      "File \u001b[1;32mpandas\\_libs\\hashtable_class_helper.pxi:7088\u001b[0m, in \u001b[0;36mpandas._libs.hashtable.PyObjectHashTable.get_item\u001b[1;34m()\u001b[0m\n",
      "\u001b[1;31mKeyError\u001b[0m: 'label'",
      "\nThe above exception was the direct cause of the following exception:\n",
      "\u001b[1;31mKeyError\u001b[0m                                  Traceback (most recent call last)",
      "Cell \u001b[1;32mIn[56], line 1\u001b[0m\n\u001b[1;32m----> 1\u001b[0m lentils_df\u001b[38;5;241m.\u001b[39mloc[lentils_df[\u001b[38;5;124m'\u001b[39m\u001b[38;5;124mlabel\u001b[39m\u001b[38;5;124m'\u001b[39m]\u001b[38;5;241m.\u001b[39misin([\u001b[38;5;124m'\u001b[39m\u001b[38;5;124mchickpea\u001b[39m\u001b[38;5;124m'\u001b[39m]), \u001b[38;5;124m'\u001b[39m\u001b[38;5;124mnum_label_2\u001b[39m\u001b[38;5;124m'\u001b[39m] \u001b[38;5;241m=\u001b[39m \u001b[38;5;241m1\u001b[39m \u001b[38;5;66;03m#1=banana\u001b[39;00m\n\u001b[0;32m      2\u001b[0m lentils_df\u001b[38;5;241m.\u001b[39mloc[lentils_df[\u001b[38;5;124m'\u001b[39m\u001b[38;5;124mlabel\u001b[39m\u001b[38;5;124m'\u001b[39m]\u001b[38;5;241m.\u001b[39misin([\u001b[38;5;124m'\u001b[39m\u001b[38;5;124mmungbean\u001b[39m\u001b[38;5;124m'\u001b[39m]), \u001b[38;5;124m'\u001b[39m\u001b[38;5;124mnum_label_2\u001b[39m\u001b[38;5;124m'\u001b[39m] \u001b[38;5;241m=\u001b[39m \u001b[38;5;241m2\u001b[39m \u001b[38;5;66;03m#1=banana\u001b[39;00m\n\u001b[0;32m      3\u001b[0m lentils_df\u001b[38;5;241m.\u001b[39mloc[lentils_df[\u001b[38;5;124m'\u001b[39m\u001b[38;5;124mlabel\u001b[39m\u001b[38;5;124m'\u001b[39m]\u001b[38;5;241m.\u001b[39misin([\u001b[38;5;124m'\u001b[39m\u001b[38;5;124mblackgram\u001b[39m\u001b[38;5;124m'\u001b[39m]), \u001b[38;5;124m'\u001b[39m\u001b[38;5;124mnum_label_2\u001b[39m\u001b[38;5;124m'\u001b[39m] \u001b[38;5;241m=\u001b[39m \u001b[38;5;241m3\u001b[39m\n",
      "File \u001b[1;32m~\\anaconda3\\Lib\\site-packages\\pandas\\core\\frame.py:3761\u001b[0m, in \u001b[0;36mDataFrame.__getitem__\u001b[1;34m(self, key)\u001b[0m\n\u001b[0;32m   3759\u001b[0m \u001b[38;5;28;01mif\u001b[39;00m \u001b[38;5;28mself\u001b[39m\u001b[38;5;241m.\u001b[39mcolumns\u001b[38;5;241m.\u001b[39mnlevels \u001b[38;5;241m>\u001b[39m \u001b[38;5;241m1\u001b[39m:\n\u001b[0;32m   3760\u001b[0m     \u001b[38;5;28;01mreturn\u001b[39;00m \u001b[38;5;28mself\u001b[39m\u001b[38;5;241m.\u001b[39m_getitem_multilevel(key)\n\u001b[1;32m-> 3761\u001b[0m indexer \u001b[38;5;241m=\u001b[39m \u001b[38;5;28mself\u001b[39m\u001b[38;5;241m.\u001b[39mcolumns\u001b[38;5;241m.\u001b[39mget_loc(key)\n\u001b[0;32m   3762\u001b[0m \u001b[38;5;28;01mif\u001b[39;00m is_integer(indexer):\n\u001b[0;32m   3763\u001b[0m     indexer \u001b[38;5;241m=\u001b[39m [indexer]\n",
      "File \u001b[1;32m~\\anaconda3\\Lib\\site-packages\\pandas\\core\\indexes\\base.py:3655\u001b[0m, in \u001b[0;36mIndex.get_loc\u001b[1;34m(self, key)\u001b[0m\n\u001b[0;32m   3653\u001b[0m     \u001b[38;5;28;01mreturn\u001b[39;00m \u001b[38;5;28mself\u001b[39m\u001b[38;5;241m.\u001b[39m_engine\u001b[38;5;241m.\u001b[39mget_loc(casted_key)\n\u001b[0;32m   3654\u001b[0m \u001b[38;5;28;01mexcept\u001b[39;00m \u001b[38;5;167;01mKeyError\u001b[39;00m \u001b[38;5;28;01mas\u001b[39;00m err:\n\u001b[1;32m-> 3655\u001b[0m     \u001b[38;5;28;01mraise\u001b[39;00m \u001b[38;5;167;01mKeyError\u001b[39;00m(key) \u001b[38;5;28;01mfrom\u001b[39;00m \u001b[38;5;21;01merr\u001b[39;00m\n\u001b[0;32m   3656\u001b[0m \u001b[38;5;28;01mexcept\u001b[39;00m \u001b[38;5;167;01mTypeError\u001b[39;00m:\n\u001b[0;32m   3657\u001b[0m     \u001b[38;5;66;03m# If we have a listlike key, _check_indexing_error will raise\u001b[39;00m\n\u001b[0;32m   3658\u001b[0m     \u001b[38;5;66;03m#  InvalidIndexError. Otherwise we fall through and re-raise\u001b[39;00m\n\u001b[0;32m   3659\u001b[0m     \u001b[38;5;66;03m#  the TypeError.\u001b[39;00m\n\u001b[0;32m   3660\u001b[0m     \u001b[38;5;28mself\u001b[39m\u001b[38;5;241m.\u001b[39m_check_indexing_error(key)\n",
      "\u001b[1;31mKeyError\u001b[0m: 'label'"
     ]
    }
   ],
   "source": [
    "lentils_df.loc[lentils_df['label'].isin(['chickpea']), 'num_label_2'] = 1 #1=banana\n",
    "lentils_df.loc[lentils_df['label'].isin(['mungbean']), 'num_label_2'] = 2 #1=banana\n",
    "lentils_df.loc[lentils_df['label'].isin(['blackgram']), 'num_label_2'] = 3 #1=banana"
   ]
  },
  {
   "cell_type": "code",
   "execution_count": null,
   "id": "6a24dcd5-3f27-43d6-aeb7-52eb26ff0359",
   "metadata": {
    "tags": []
   },
   "outputs": [],
   "source": [
    "y = lentils_df.pop(\"num_label_2\")"
   ]
  },
  {
   "cell_type": "code",
   "execution_count": null,
   "id": "766b4812-4acd-45cd-a827-b5e8abd7f3b2",
   "metadata": {
    "tags": []
   },
   "outputs": [],
   "source": [
    "X_train, X_test, y_train, y_test = train_test_split(lentils_df, y, test_size=0.25, random_state=5691)"
   ]
  },
  {
   "cell_type": "code",
   "execution_count": null,
   "id": "c5e91f8a-28d9-45ae-a2ab-c723fe0745be",
   "metadata": {
    "tags": []
   },
   "outputs": [],
   "source": [
    "pipe.fit(X_train, y_train)"
   ]
  },
  {
   "cell_type": "code",
   "execution_count": null,
   "id": "c21f0bba-36de-4123-9f41-03cd8b1e5794",
   "metadata": {
    "tags": []
   },
   "outputs": [],
   "source": [
    "r2_score(\n",
    "    y_true=y_train,\n",
    "    y_pred=pipe.predict(X_train)\n",
    ")"
   ]
  },
  {
   "cell_type": "code",
   "execution_count": null,
   "id": "33c98690-6eec-4c51-9410-8661f9a35944",
   "metadata": {
    "tags": []
   },
   "outputs": [],
   "source": [
    "r2_score(\n",
    "    y_true=y_test,\n",
    "    y_pred=pipe.predict(X_test)\n",
    ")"
   ]
  },
  {
   "cell_type": "code",
   "execution_count": null,
   "id": "adeb6a52-17a0-4c5c-874d-47c4e0e14835",
   "metadata": {
    "tags": []
   },
   "outputs": [],
   "source": [
    "pickle.dump(pipe,\n",
    "            open(file='trained model/lentils_pipe.sav',\n",
    "                 mode='wb'))"
   ]
  },
  {
   "cell_type": "code",
   "execution_count": null,
   "id": "16a15b27-1b3f-4c9e-b3f4-109bf5671eb1",
   "metadata": {
    "tags": []
   },
   "outputs": [],
   "source": [
    "y = fibre_df.pop(\"num_label_2\")"
   ]
  },
  {
   "cell_type": "code",
   "execution_count": null,
   "id": "6d138782-e9a9-4698-ab74-1ad26ead01c3",
   "metadata": {
    "tags": []
   },
   "outputs": [],
   "source": [
    "X_train, X_test, y_train, y_test = train_test_split(fibre_df, y, test_size=0.25, random_state=5691)"
   ]
  },
  {
   "cell_type": "code",
   "execution_count": null,
   "id": "7d1df14e-7dc8-4cfc-a93f-1b5a937c1610",
   "metadata": {
    "tags": []
   },
   "outputs": [],
   "source": [
    "pipe.fit(X_train, y_train)"
   ]
  },
  {
   "cell_type": "code",
   "execution_count": null,
   "id": "047de15f-1f72-4d17-a85a-8513b32b9c7b",
   "metadata": {
    "tags": []
   },
   "outputs": [],
   "source": [
    "r2_score(\n",
    "    y_true=y_train,\n",
    "    y_pred=pipe.predict(X_train)\n",
    ")"
   ]
  },
  {
   "cell_type": "code",
   "execution_count": null,
   "id": "3ca1c0b5-5f3b-4cb4-babe-5e960a880d27",
   "metadata": {
    "tags": []
   },
   "outputs": [],
   "source": [
    "r2_score(\n",
    "    y_true=y_test,\n",
    "    y_pred=pipe.predict(X_test)\n",
    ")"
   ]
  },
  {
   "cell_type": "code",
   "execution_count": null,
   "id": "fd041749-de80-457e-a5a7-2dfd74cf2487",
   "metadata": {
    "tags": []
   },
   "outputs": [],
   "source": [
    "pickle.dump(pipe,\n",
    "            open(file='trained model/fibre_pipe.sav',\n",
    "                 mode='wb'))"
   ]
  },
  {
   "cell_type": "code",
   "execution_count": null,
   "id": "f593a414-7da7-4a6e-ac7b-2c4b2a102aac",
   "metadata": {
    "tags": []
   },
   "outputs": [],
   "source": [
    "fibre_df\n"
   ]
  },
  {
   "cell_type": "code",
   "execution_count": null,
   "id": "d9ddd559-5444-441e-9ece-4558b99e9365",
   "metadata": {
    "tags": []
   },
   "outputs": [],
   "source": [
    "pip install --upgrade streamlit"
   ]
  },
  {
   "cell_type": "code",
   "execution_count": null,
   "id": "146ff1ef-b9d7-4d9b-a68c-6633742f6955",
   "metadata": {
    "tags": []
   },
   "outputs": [],
   "source": [
    "pip install streamlit --upgrade"
   ]
  },
  {
   "cell_type": "code",
   "execution_count": null,
   "id": "a4af5b89-92d5-44de-8c6f-b568177ce567",
   "metadata": {
    "tags": []
   },
   "outputs": [],
   "source": [
    "pip install streamlit-option-menu"
   ]
  },
  {
   "cell_type": "code",
   "execution_count": null,
   "id": "44e9b07c-a88c-4bd4-8b82-62f4240ba146",
   "metadata": {},
   "outputs": [],
   "source": []
  }
 ],
 "metadata": {
  "kernelspec": {
   "display_name": "Python 3 (ipykernel)",
   "language": "python",
   "name": "python3"
  },
  "language_info": {
   "codemirror_mode": {
    "name": "ipython",
    "version": 3
   },
   "file_extension": ".py",
   "mimetype": "text/x-python",
   "name": "python",
   "nbconvert_exporter": "python",
   "pygments_lexer": "ipython3",
   "version": "3.11.5"
  }
 },
 "nbformat": 4,
 "nbformat_minor": 5
}
